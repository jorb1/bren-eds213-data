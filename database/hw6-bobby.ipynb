{
 "cells": [
  {
   "cell_type": "markdown",
   "id": "14831034",
   "metadata": {},
   "source": [
    "# Little Bobby Tables\n",
    "## Bailey Jørgensen"
   ]
  },
  {
   "cell_type": "markdown",
   "id": "662537cc",
   "metadata": {},
   "source": [
    "Problem 1: \n",
    "DROP TABLE is a destructive SQL command. So, when the user input it into the name category, it allowed the rest of the student table to be dropped. In addition, -- is what is used in SQL to start a comment, so what comes after the -- on that line is ignored. Using the ? method of inputs is safer, because it isolates the input from the rest of the query. "
   ]
  },
  {
   "cell_type": "markdown",
   "id": "e9357718",
   "metadata": {},
   "source": [
    "Problem 2: If... \n"
   ]
  },
  {
   "cell_type": "code",
   "execution_count": null,
   "id": "2a46cb6f",
   "metadata": {
    "vscode": {
     "languageId": "sql"
    }
   },
   "outputs": [],
   "source": [
    "\n",
    "SELECT *\n",
    "    FROM Students WHERE name = '%s';\n"
   ]
  },
  {
   "cell_type": "markdown",
   "id": "54cdbe21",
   "metadata": {},
   "source": [
    "\n",
    "was used instead, a malicious user could input\n"
   ]
  },
  {
   "cell_type": "code",
   "execution_count": null,
   "id": "b6724b39",
   "metadata": {
    "vscode": {
     "languageId": "sql"
    }
   },
   "outputs": [],
   "source": [
    "' OR 1=1; DROP TABLE Students; --"
   ]
  },
  {
   "cell_type": "markdown",
   "id": "403f2b15",
   "metadata": {},
   "source": [
    "and the table would also be destroyed. ' is used to end quotation marks early. OR 1=1 makes the condition always true (since SQL uses boolean logic within queries), as SQL evaluates the statement left to right, the entire WHERE clause becomes true for all rows, which bypasses further filtering and exposes the whole table. \n",
    "\n",
    "And then, the same destructive statement used above can be used. Basically, '%s' does not properly escape user input. The ? placeholders are still the best method, in addition to sanitizing inputs, or not allowing certain characters as inputs by a user. "
   ]
  },
  {
   "cell_type": "markdown",
   "id": "afe8f3b8",
   "metadata": {},
   "source": [
    "Bonus Problem: The devious input could be:"
   ]
  },
  {
   "cell_type": "code",
   "execution_count": null,
   "id": "36dbb8c7",
   "metadata": {
    "vscode": {
     "languageId": "sql"
    }
   },
   "outputs": [],
   "source": [
    "wolv'; INSERT INTO Personnel (Name) VALUES ('Taylor Swift'); --"
   ]
  },
  {
   "cell_type": "markdown",
   "id": "6c5a2a52",
   "metadata": {},
   "source": [
    "I think this would work, because wolv would be inserted as normal, and so would still show up in query. However, everything after the ; is still executed, so Taylor Swift is still inserted into the table. The -- is added again so that everything after on this line would be ignored. "
   ]
  },
  {
   "cell_type": "markdown",
   "id": "4aa2d648",
   "metadata": {},
   "source": []
  }
 ],
 "metadata": {
  "language_info": {
   "name": "python"
  }
 },
 "nbformat": 4,
 "nbformat_minor": 5
}
